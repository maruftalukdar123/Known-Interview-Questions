{
 "cells": [
  {
   "cell_type": "markdown",
   "id": "e9c77fef",
   "metadata": {},
   "source": [
    "# firstDuplicate #"
   ]
  },
  {
   "cell_type": "code",
   "execution_count": 72,
   "id": "46ab4194",
   "metadata": {},
   "outputs": [
    {
     "name": "stdout",
     "output_type": "stream",
     "text": [
      "[2, 5]\n"
     ]
    },
    {
     "data": {
      "text/plain": [
       "2"
      ]
     },
     "execution_count": 72,
     "metadata": {},
     "output_type": "execute_result"
    }
   ],
   "source": [
    "def solution(a):\n",
    "    m=[]\n",
    "    \n",
    "    # for each number, check if it occurs again\n",
    "    # if it does, append the index of the reoccurence to the empty list\n",
    "    # output the number with the minimum index\n",
    "    \n",
    "    \n",
    "    for i,number in enumerate(a):\n",
    "        if a[i] in a[i+1:]:\n",
    "            m.append(a.index(a[i],i+1,))\n",
    "    \n",
    "    if len(m)>0:\n",
    "        return a[min(m)]\n",
    "    else:\n",
    "        return -1\n",
    "    \n",
    "    \n",
    "    \n",
    "a = [2,1,2,3,4,1,2,1,1]\n",
    "solution(a)"
   ]
  },
  {
   "cell_type": "code",
   "execution_count": 71,
   "id": "c11ca4bf",
   "metadata": {},
   "outputs": [
    {
     "data": {
      "text/plain": [
       "True"
      ]
     },
     "execution_count": 71,
     "metadata": {},
     "output_type": "execute_result"
    }
   ],
   "source": [
    "def solution(a):\n",
    "    m,n=[],[]\n",
    "    \n",
    "    # for each number, check if it occurs again\n",
    "    # if it does, append the index of the reoccurence to the empty list\n",
    "    # output the number with the minimum index\n",
    "    # if duplicate of a number is already found, don't run that number again\n",
    "    \n",
    "    \n",
    "    for i,number in enumerate(a):\n",
    "        if a[i] in a[i+1:] and a[i] not in n:\n",
    "            m.append(a.index(a[i],i+1,))\n",
    "            n.append(a[i])\n",
    "    \n",
    "    if len(m)>0:\n",
    "        return a[min(m)]\n",
    "    else:\n",
    "        return -1\n",
    "    \n",
    "a = [2,1,2,3,4,1,2,1,1]\n",
    "solution(a)"
   ]
  },
  {
   "cell_type": "code",
   "execution_count": 98,
   "id": "08117fe1",
   "metadata": {},
   "outputs": [
    {
     "data": {
      "text/plain": [
       "2"
      ]
     },
     "execution_count": 98,
     "metadata": {},
     "output_type": "execute_result"
    }
   ],
   "source": [
    "def solution(a):\n",
    "    \n",
    "    #same as above, now only run for duplicates\n",
    "    \n",
    "    m=[]\n",
    "    n=[a.count(a[i]) for i in range(len(a)-1)]\n",
    "    \n",
    "    for i in range(len(a)-1):\n",
    "        if n[i]>1 and a[i] in a[i+1:]:\n",
    "            m.append(a.index(a[i],i+1,))\n",
    "    \n",
    "    if len(m)>0:\n",
    "        return a[min(m)]\n",
    "    else:\n",
    "        return -1\n",
    "    \n",
    "a = [2,1,2,3,4,1,2,1,1]\n",
    "solution(a)"
   ]
  },
  {
   "cell_type": "code",
   "execution_count": 112,
   "id": "be9559a5",
   "metadata": {},
   "outputs": [
    {
     "data": {
      "text/plain": [
       "2"
      ]
     },
     "execution_count": 112,
     "metadata": {},
     "output_type": "execute_result"
    }
   ],
   "source": [
    "# Recommended solution\n",
    "\n",
    "def solution(a):\n",
    "    mySet=set()\n",
    "    for el in a:\n",
    "        if el in mySet:\n",
    "            return el\n",
    "        mySet.add(el)\n",
    "    return -1\n",
    "\n",
    "a = [2,1,2,3,4,1,2,1,1]\n",
    "solution(a)"
   ]
  },
  {
   "cell_type": "markdown",
   "id": "62210d97",
   "metadata": {},
   "source": [
    "# firstNotRepeatingCharacter #"
   ]
  },
  {
   "cell_type": "code",
   "execution_count": 1,
   "id": "1a680a1c",
   "metadata": {},
   "outputs": [
    {
     "name": "stdout",
     "output_type": "stream",
     "text": [
      "0 h abahzb bzhabah\n",
      "1 a bahzb h\n",
      "2 b ahzb ah\n",
      "3 a hzb bah\n",
      "4 h zb abah\n",
      "5 z b habah\n"
     ]
    },
    {
     "data": {
      "text/plain": [
       "(5, 'z')"
      ]
     },
     "execution_count": 1,
     "metadata": {},
     "output_type": "execute_result"
    }
   ],
   "source": [
    "def solution(s):\n",
    "    \n",
    "    # run through all elements\n",
    "    \n",
    "    for i,el in enumerate(s):\n",
    "        \n",
    "        # helps checking whats going on\n",
    "        #print(i,el,s[i+1:], s[i-1::-1])\n",
    "        \n",
    "        # if it's the first element, only check for duplicates in \n",
    "        # characters in front of it\n",
    "        # if no duplicate present, return first element\n",
    "        if i == 0:\n",
    "            if el not in s[i+1:]:\n",
    "                return el\n",
    "            \n",
    "        # if it's not the first element, check for duplicates in \n",
    "        # characters in front of it and behind it\n",
    "        # if no duplicate is present, return that element\n",
    "        elif el not in s[i+1:] and el not in s[:i-1]:\n",
    "            return el\n",
    "        \n",
    "        \n",
    "    #otherwise, return '_'    \n",
    "    return '_'\n",
    "        \n",
    "s='habahzb'\n",
    "solution(s)"
   ]
  },
  {
   "cell_type": "markdown",
   "id": "be233af7",
   "metadata": {},
   "source": [
    "# rotateimage"
   ]
  },
  {
   "cell_type": "code",
   "execution_count": 26,
   "id": "f81eab0d",
   "metadata": {},
   "outputs": [
    {
     "data": {
      "text/plain": [
       "array([[7, 4, 1],\n",
       "       [8, 5, 2],\n",
       "       [9, 6, 3]])"
      ]
     },
     "execution_count": 26,
     "metadata": {},
     "output_type": "execute_result"
    }
   ],
   "source": [
    "import numpy as np\n",
    "def solution(a):\n",
    "    return np.rot90(np.array(a),axes=(1,0))\n",
    "    \n",
    "    \n",
    "a = [[1, 2, 3],\n",
    "     [4, 5, 6],\n",
    "     [7, 8, 9]]\n",
    "\n",
    "solution(a)"
   ]
  },
  {
   "cell_type": "code",
   "execution_count": 40,
   "id": "0d1e424f",
   "metadata": {},
   "outputs": [
    {
     "data": {
      "text/plain": [
       "array([[7, 4, 1],\n",
       "       [8, 5, 2],\n",
       "       [9, 6, 3]])"
      ]
     },
     "execution_count": 40,
     "metadata": {},
     "output_type": "execute_result"
    }
   ],
   "source": [
    "def solution(a):\n",
    "    a.reverse()\n",
    "    b=[]\n",
    "    for i in range(len(a)):\n",
    "        for j in range(len(a)):\n",
    "            b.append(a[j][i])\n",
    "            \n",
    "    return np.reshape(b,(len(a),len(a)))\n",
    "\n",
    "\n",
    "\n",
    "a = [[1, 2, 3],\n",
    "     [4, 5, 6],\n",
    "     [7, 8, 9]]\n",
    "\n",
    "solution(a)"
   ]
  },
  {
   "cell_type": "markdown",
   "id": "b0c3691a",
   "metadata": {},
   "source": [
    "# sudoku2"
   ]
  },
  {
   "cell_type": "code",
   "execution_count": 4,
   "id": "6ad66232",
   "metadata": {},
   "outputs": [
    {
     "data": {
      "text/plain": [
       "True"
      ]
     },
     "execution_count": 4,
     "metadata": {},
     "output_type": "execute_result"
    }
   ],
   "source": [
    "import numpy as np\n",
    "def solution(grid):\n",
    "    \n",
    "    # separate the rows (r) and coloumns (c) and 3x3 subgrids (s)\n",
    "    # remove dots on each r, c and s\n",
    "    # then check for duplicates by doing a lenght check\n",
    "    # sets automatically remove duplicates\n",
    "    \n",
    "    #----------------------------------------------------------\n",
    "    # defining the r, c and s\n",
    "    r=np.reshape(grid,(9,1,9))\n",
    "    c=np.transpose(grid)\n",
    "    c=np.reshape(c,(9,9,1))\n",
    "    s=[]\n",
    "    \n",
    "    for i in range(3):\n",
    "        for j in range(3):\n",
    "            s.append(c[ 3*i:3*i+3 , 3*j:3*j+3 ])\n",
    "    s=np.reshape(s,(9,1,9))\n",
    "    \n",
    "    \n",
    "    #------------------------------------------------------------\n",
    "    # removing the black spaces in each r,c and s\n",
    "    # then removing duplicates\n",
    "    # '.' are used as placeholders in blank spaces\n",
    "    for i,el in enumerate(c):\n",
    "        \n",
    "        index_c = np.where(c[i]=='.')\n",
    "        removed_c = np.delete(c[i],index_c[0])\n",
    "        set_c = set(removed_c)\n",
    "        \n",
    "        \n",
    "        index_r = np.where(r[i]=='.')\n",
    "        removed_r = np.delete(r[i],index_r[1])\n",
    "        set_r = set(removed_r)\n",
    "        \n",
    "        \n",
    "        index_s = np.where(s[i]=='.')\n",
    "        removed_s = np.delete(s[i],index_s[1])\n",
    "        set_s = set(removed_s)\n",
    "        \n",
    "        \n",
    "        #-------------------------------------------------------\n",
    "        # lenght check; whether r,c and s with duplicates removed \n",
    "        # is the same as the r,c and s without removing duplicates\n",
    "        if len(removed_c) is not len(set_c):\n",
    "            return False\n",
    "        if len(removed_r) is not len(set_r):\n",
    "            return False\n",
    "        if len(removed_s) is not len(set_s):\n",
    "            return False\n",
    "    \n",
    "    return True\n",
    "        \n",
    "    \n",
    "    \n",
    "    \n",
    "    \n",
    "    \n",
    "    \n",
    "grid1=[[\".\",\".\",\".\",\".\",\".\",\".\",\"5\",\".\",\".\"], \n",
    "     [\".\",\".\",\".\",\".\",\".\",\".\",\".\",\".\",\".\"], \n",
    "     [\".\",\".\",\".\",\".\",\".\",\".\",\".\",\".\",\".\"], \n",
    "     [\"9\",\"3\",\".\",\".\",\"2\",\".\",\"4\",\".\",\".\"], \n",
    "     [\".\",\".\",\"7\",\".\",\".\",\".\",\"3\",\".\",\".\"], \n",
    "     [\".\",\".\",\".\",\".\",\".\",\".\",\".\",\".\",\".\"], \n",
    "     [\".\",\".\",\".\",\"3\",\"4\",\".\",\".\",\".\",\".\"], \n",
    "     [\".\",\".\",\".\",\".\",\".\",\"3\",\".\",\".\",\".\"], \n",
    "     [\".\",\".\",\".\",\".\",\".\",\"5\",\"2\",\".\",\".\"]]\n",
    "\n",
    "\n",
    "grid2=[[\".\",\".\",\".\",\"1\",\"4\",\".\",\".\",\"2\",\".\"], \n",
    "     [\".\",\".\",\"6\",\".\",\".\",\".\",\".\",\".\",\".\"], \n",
    "     [\".\",\".\",\".\",\".\",\".\",\".\",\".\",\".\",\".\"], \n",
    "     [\".\",\".\",\"1\",\".\",\".\",\".\",\".\",\".\",\".\"], \n",
    "     [\".\",\"6\",\"7\",\".\",\".\",\".\",\".\",\".\",\"9\"], \n",
    "     [\".\",\".\",\".\",\".\",\".\",\".\",\"8\",\"1\",\".\"], \n",
    "     [\".\",\"3\",\".\",\".\",\".\",\".\",\".\",\".\",\"6\"], \n",
    "     [\".\",\".\",\".\",\".\",\".\",\"7\",\".\",\".\",\".\"], \n",
    "     [\".\",\".\",\".\",\"5\",\".\",\".\",\".\",\"7\",\".\"]]\n",
    "\n",
    "#solution(grid1)\n",
    "solution(grid2)"
   ]
  },
  {
   "cell_type": "markdown",
   "id": "b7c6b825",
   "metadata": {},
   "source": [
    "# isCryptSolution"
   ]
  },
  {
   "cell_type": "code",
   "execution_count": 1,
   "id": "794cafad",
   "metadata": {},
   "outputs": [
    {
     "data": {
      "text/plain": [
       "True"
      ]
     },
     "execution_count": 1,
     "metadata": {},
     "output_type": "execute_result"
    }
   ],
   "source": [
    "def solutions(crypt, solution):\n",
    "    m=[]\n",
    "    \n",
    "    for i,word in enumerate(crypt):\n",
    "        for j,letter in enumerate(word):\n",
    "            for k in range(len(solution)):\n",
    "                if letter == solution[k][0]:\n",
    "                    m.append(solution[k][1])\n",
    "                    \n",
    "    n=[ [] for i in range(len(crypt))]\n",
    "\n",
    "    n[0]=m[:len(crypt[0])]\n",
    "    n[1]=m[len(crypt[0]):len(crypt[0])+len(crypt[1])]\n",
    "    n[2]=m[len(crypt[0])+len(crypt[1]):]\n",
    "    \n",
    "    n=[int(''.join(n[i])) for i in range(3)]\n",
    "    \n",
    "    if n[0]+n[1]==n[2]:\n",
    "        \n",
    "        for i in range(3):\n",
    "            n[i]=str(n[i])\n",
    "            \n",
    "            if n[i][0]==0:\n",
    "                if len(n[i])>1:\n",
    "                    return False\n",
    "                if len(n[i])==1:\n",
    "                    return True\n",
    "            return True\n",
    "            \n",
    "        \n",
    "    return False\n",
    "         \n",
    "        \n",
    "    \n",
    "    \n",
    "\n",
    "crypt=[\"AA\", \n",
    " \"AA\", \n",
    " \"BB\"]\n",
    "solution= [[\"A\",\"1\"], \n",
    " [\"B\",\"2\"]]\n",
    "\n",
    "solutions(crypt,solution)"
   ]
  },
  {
   "cell_type": "code",
   "execution_count": null,
   "id": "244ec385",
   "metadata": {},
   "outputs": [],
   "source": [
    "def solutions(crypt, solution):\n",
    "    my_dict={}\n",
    "    solution=np.array(solution)\n",
    "    s1,s2=solution[:,0],solution[:,1]\n",
    "    \n",
    "    m=[ [] for i in range(len(s1))]\n",
    "    \n",
    "    for i in range(len(s1)):\n",
    "        m[i]={s1[i]:s2[i]}\n",
    "        my_dict.update(m[i])\n",
    "        \n",
    "    s=[]\n",
    "    \n",
    "    for i,word in enumerate(crypt):\n",
    "        for j in range(len(word)):\n",
    "            s.append(my_dict[ crypt[i][j] ])\n",
    "    \n",
    "    n=[ [] for i in range(len(crypt))]\n",
    "\n",
    "    n[0]=m[:len(crypt[0])]\n",
    "    n[1]=m[len(crypt[0]):len(crypt[0])+len(crypt[1])]\n",
    "    n[2]=m[len(crypt[0])+len(crypt[1]):]\n",
    "    \n",
    "    n=[int(''.join(n[i])) for i in range(3)]\n",
    "    \n",
    "    if n[0]+n[1]==n[2]:\n",
    "        \n",
    "        for i in range(3):\n",
    "            n[i]=str(n[i])\n",
    "            \n",
    "            if n[i][0]==0:\n",
    "                if len(n[i])>1:\n",
    "                    return False\n",
    "                if len(n[i])==1:\n",
    "                    return True\n",
    "            return True\n",
    "            \n",
    "        \n",
    "    return False\n",
    "            \n",
    "\n",
    "\n",
    "         \n",
    "    print(n)\n",
    "    \n",
    "    \n",
    "    \n",
    "crypt = [\"SEND\", \"MORE\", \"MONEY\"]\n",
    "solution = [['O', '0'],\n",
    "            ['M', '1'],\n",
    "            ['Y', '2'],\n",
    "            ['E', '5'],\n",
    "            ['N', '6'],\n",
    "            ['D', '7'],\n",
    "            ['R', '8'],\n",
    "            ['S', '9']]\n",
    "\n",
    "solutions(crypt,solution)"
   ]
  },
  {
   "cell_type": "code",
   "execution_count": 5,
   "id": "f76a6f3a",
   "metadata": {},
   "outputs": [],
   "source": [
    "# Recommended solution\n",
    "def solution(crypt, solution):\n",
    "    table = str.maketrans(dict(solution))\n",
    "    t = tuple(s.translate(table) for s in crypt)\n",
    "    zeroes = any(s[0] == '0' for s in t if len(s) > 1)\n",
    "    return not zeroes and int(t[0]) + int(t[1]) == int(t[2])"
   ]
  }
 ],
 "metadata": {
  "kernelspec": {
   "display_name": "Python 3 (ipykernel)",
   "language": "python",
   "name": "python3"
  },
  "language_info": {
   "codemirror_mode": {
    "name": "ipython",
    "version": 3
   },
   "file_extension": ".py",
   "mimetype": "text/x-python",
   "name": "python",
   "nbconvert_exporter": "python",
   "pygments_lexer": "ipython3",
   "version": "3.9.12"
  }
 },
 "nbformat": 4,
 "nbformat_minor": 5
}
